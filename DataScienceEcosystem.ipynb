{
 "cells": [
  {
   "cell_type": "markdown",
   "id": "d5f01ea5-9d53-4fc7-b9b9-49f74b8497cf",
   "metadata": {},
   "source": [
    "# Data Science Tools and Ecosystem\n"
   ]
  },
  {
   "cell_type": "markdown",
   "id": "b5de08a1-5324-4bd9-a283-9d4dd78aa7c2",
   "metadata": {},
   "source": [
    "***In this notebook, Data Science Tools and Ecosystem are summarized***"
   ]
  },
  {
   "cell_type": "markdown",
   "id": "913a4fed-e1ee-4e41-add4-078a311569fb",
   "metadata": {},
   "source": [
    "***Objectives:***\n",
    "- List popular languages for Data Science\n",
    "- List popular libraries used by Data Scientists\n",
    "- Insert code and markdowns cells"
   ]
  },
  {
   "cell_type": "markdown",
   "id": "ac457c4a-5646-4e97-9836-e559dfe25154",
   "metadata": {},
   "source": [
    "Some of the popular languages that Data Scientists use are:\n",
    "    \n",
    "1. Python\n",
    "2. R\n",
    "3. Java.\n",
    "4. Scala"
   ]
  },
  {
   "cell_type": "markdown",
   "id": "337a11e8-c95f-4022-ae26-42e35d564338",
   "metadata": {},
   "source": [
    "Some of the commonly used libraries used by Data Scientists include:\n",
    "\n",
    "1. Pandas\n",
    "2. Numpy\n",
    "3. Matplotlib\n",
    "4. Scipy"
   ]
  },
  {
   "cell_type": "markdown",
   "id": "4bba78c5-ac0d-42c9-ae24-5a6778a699d0",
   "metadata": {},
   "source": [
    "|Data Science Tools|\n",
    "|------------------|\n",
    "| Python |\n",
    "| Jupyter Notebook|\n",
    "| R |"
   ]
  },
  {
   "cell_type": "markdown",
   "id": "27cff4f7-ffa0-4908-b188-59ec663d601a",
   "metadata": {},
   "source": [
    "### Below are a few examples of evaluating arithmetic expressions in Python\n",
    "\n",
    "| Operator | Description |\n",
    "|-----------|-------------|\n",
    "| - | Subtraction |\n",
    "| * | Multiplication |\n",
    "| / | Whole Division |\n",
    "| + | Addition |\n"
   ]
  },
  {
   "cell_type": "code",
   "execution_count": 17,
   "id": "ac32a9c0-0106-4872-8169-dda5c72e7cb3",
   "metadata": {},
   "outputs": [
    {
     "data": {
      "text/plain": [
       "17"
      ]
     },
     "execution_count": 17,
     "metadata": {},
     "output_type": "execute_result"
    }
   ],
   "source": [
    "# This a simple arithmetic expression to mutiply then add integers\n",
    "(3*4)+5"
   ]
  },
  {
   "cell_type": "code",
   "execution_count": 19,
   "id": "cd0685ae-5ffd-4753-ab0b-45ee5709c6e5",
   "metadata": {},
   "outputs": [
    {
     "data": {
      "text/plain": [
       "3.3333333333333335"
      ]
     },
     "execution_count": 19,
     "metadata": {},
     "output_type": "execute_result"
    }
   ],
   "source": [
    "# This will convert 200 minutes to hours by diving by 60\n",
    "200/60"
   ]
  },
  {
   "cell_type": "markdown",
   "id": "57e0e711-5688-4260-95cf-13f3f71798da",
   "metadata": {},
   "source": [
    "## Author\n",
    "Livea Paiva"
   ]
  },
  {
   "cell_type": "code",
   "execution_count": null,
   "id": "275b3523-20bb-4e99-9a9f-b3ddccbafba8",
   "metadata": {},
   "outputs": [],
   "source": []
  }
 ],
 "metadata": {
  "kernelspec": {
   "display_name": "anaconda-panel-2023.05-py310",
   "language": "python",
   "name": "conda-env-anaconda-panel-2023.05-py310-py"
  },
  "language_info": {
   "codemirror_mode": {
    "name": "ipython",
    "version": 3
   },
   "file_extension": ".py",
   "mimetype": "text/x-python",
   "name": "python",
   "nbconvert_exporter": "python",
   "pygments_lexer": "ipython3",
   "version": "3.11.4"
  }
 },
 "nbformat": 4,
 "nbformat_minor": 5
}
